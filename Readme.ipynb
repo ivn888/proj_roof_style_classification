{
 "cells": [
  {
   "cell_type": "markdown",
   "metadata": {},
   "source": [
    "# Roof style classification using Deep learning Network"
   ]
  },
  {
   "cell_type": "markdown",
   "metadata": {},
   "source": [
    "### Objective:"
   ]
  },
  {
   "cell_type": "markdown",
   "metadata": {},
   "source": [
    "To classify roof styles using deep learning network"
   ]
  },
  {
   "cell_type": "markdown",
   "metadata": {},
   "source": [
    "### Problem Type:"
   ]
  },
  {
   "cell_type": "markdown",
   "metadata": {},
   "source": [
    "Supervised Classification"
   ]
  },
  {
   "cell_type": "markdown",
   "metadata": {},
   "source": [
    "### Roof Style types:"
   ]
  },
  {
   "cell_type": "markdown",
   "metadata": {},
   "source": [
    "<table>\n",
    "<tr><td><b>Roof type-0:</b>Flat</td> <td><img src=\"Flat_84.png\"></td></tr>\n",
    "<tr><td><b>Roof type-1:</b>Gable</td> <td><img src=\"Gable_86.png\"></td></tr>\n",
    "<tr><td><b>Roof type-2:</b>Hip</td> <td><img src=\"Hip_152.png\"></td></tr>\n",
    "<tr><td><b>Roof type-3:</b>Gambrel</td> <td><img src=\"Gambrel_03.png\"></td></tr></table>"
   ]
  },
  {
   "cell_type": "markdown",
   "metadata": {},
   "source": [
    "## Steps Involved:"
   ]
  },
  {
   "cell_type": "markdown",
   "metadata": {},
   "source": [
    "Step - 01: Read Image <br />\n",
    "Step - 02: Regular deep net construction for benchmarking <br />\n",
    "Step - 03: Convolutional Neural network construction and training <br />\n",
    "Step - 04: Accuracy and Analysis <br />"
   ]
  },
  {
   "cell_type": "markdown",
   "metadata": {},
   "source": [
    "## Step - 01: Reading Images "
   ]
  },
  {
   "cell_type": "markdown",
   "metadata": {},
   "source": [
    "<b>Package Used:</b> Opencv (Please note that opencv shows improved <a href=\"https://ir.canterbury.ac.nz/bitstream/handle/10092/5430/12630971_2010-Python_for_Prototyping_Computer_Vision_Applications.pdf?sequence=1&isAllowed=y\">gaussian filter performance</a> over scipy)"
   ]
  },
  {
   "cell_type": "markdown",
   "metadata": {},
   "source": [
    "In case of regular neural network, to perform dot product of input values and weights: <br />\n",
    "<font=8><b>Pred_Y = X.W + b </b></font> <br /><br />\n",
    "Since this is matrix multiplication (X.W), it should be in the \"mxn\" and \"nxj\" format to get \"mxj\" form. <br />\n",
    "To enable this multiplication, the image must be flattened to 1 dimension.\n",
    "In our case, all our images are first reshaped to 128x128x3.\n",
    "Using opencv, all the images are converted to Grayscale thereby reducing third dimension to 128x128x1 <br/><br/>\n",
    "\n",
    "<b>Converted Gray Scale Image:</b><img src=\"Selection_040.png\"> <br/><br />\n",
    "\n",
    "\n",
    "This converted image is further reduced to get a one dimensional matrix of 16384 and fed to a regular deep network.\n",
    "<br/>\n",
    "Another deep net with edges detected was ran to benchmark performance against regular deep net.\n",
    "<img src=\"Edges.png\">\n",
    "<font=15><b>Note:</font></b>   In case of convolutional neural network, images of dimension (128x128x3) are directly fed to the model and tested"
   ]
  },
  {
   "cell_type": "markdown",
   "metadata": {},
   "source": [
    "## Step - 02: Regular Deep net for benchmarking"
   ]
  },
  {
   "cell_type": "markdown",
   "metadata": {},
   "source": [
    "<b>Package Used:</b> Tensorflow\n",
    "<br />\n",
    "<b>Layers:</b>\n",
    "<table> <tr><td>Layers</td><td>Dimensions</td></tr> \n",
    "<tr><td>Input_layer</td><td>16384</td>\n",
    "<tr><td>Output_layer</td><td>4</td> </table>\n",
    "<br /><br />\n",
    "<b>Computation:</b>   SoftMax(<font=8>Pred_Y = X.W + b </font>) <br /><br />\n",
    "<b>Cross Entropy:</b> <img src=\"0414vsm_mccaffreyFig2.jpg\"> <br /><br />\n",
    "<b>Optimizer:</b> Gradient Descent to minimize cross entropy"
   ]
  },
  {
   "cell_type": "markdown",
   "metadata": {},
   "source": [
    "## Step - 03: Convolutional neural network construction and working"
   ]
  },
  {
   "cell_type": "markdown",
   "metadata": {},
   "source": [
    "<b>Package Used:</b> Tensorflow with CUDA  - Bitfusion Amazon Cloud (AWS) <br/><br/>\n",
    "<b>Layers:</b> <img src=\"a.png\"> <br/><br/>\n",
    "<b>Optimizer:</b> Stochastic Gradient Descent (SGD) with learning rate = 0.001 <br/><br/>"
   ]
  },
  {
   "cell_type": "markdown",
   "metadata": {},
   "source": [
    "## Step - 04: Accuracy and Analysis"
   ]
  },
  {
   "cell_type": "markdown",
   "metadata": {},
   "source": [
    "<table width =900><tr><td><b>Network type</b></td><td><b>Accuracy</b></td><td><b>Inference</b></td></tr>\n",
    "<tr><td>Regular Net</td><td>34.92%</td><td>Performance with 1D array is low because we destroy all the features (color and 2D)</td></tr>\n",
    "<tr><td>Regular Net - After Edge detection</td><td>34.92%</td><td>Performance is same as Regular Net. Feature selection has zero impact on the performance of net</td></tr>\n",
    "<tr><td>Convolutional Neural Net</td><td>69.84%</td><td>Performance increased tremendously. Increasing number of records in training and test set will increase accuracy.</td></tr>\n",
    "</table>"
   ]
  }
 ],
 "metadata": {
  "kernelspec": {
   "display_name": "Python 3",
   "language": "python",
   "name": "python3"
  },
  "language_info": {
   "codemirror_mode": {
    "name": "ipython",
    "version": 3
   },
   "file_extension": ".py",
   "mimetype": "text/x-python",
   "name": "python",
   "nbconvert_exporter": "python",
   "pygments_lexer": "ipython3",
   "version": "3.5.2"
  }
 },
 "nbformat": 4,
 "nbformat_minor": 1
}
